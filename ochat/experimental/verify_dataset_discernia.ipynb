{
 "cells": [
  {
   "cell_type": "code",
   "execution_count": 1,
   "metadata": {},
   "outputs": [
    {
     "data": {
      "application/vnd.jupyter.widget-view+json": {
       "model_id": "034c132cddc8432ba41bce5e243107d5",
       "version_major": 2,
       "version_minor": 0
      },
      "text/plain": [
       "Downloading (…)/main/tokenizer.json:   0%|          | 0.00/1.84M [00:00<?, ?B/s]"
      ]
     },
     "metadata": {},
     "output_type": "display_data"
    }
   ],
   "source": [
    "from pyarrow import parquet\n",
    "import pyarrow\n",
    "import datasets\n",
    "\n",
    "import transformers\n",
    "import numpy as np\n",
    "\n",
    "from tqdm.notebook import tqdm\n",
    "\n",
    "\n",
    "DATASET = \"../../dataset_processed_discernia/prm800k.train.parquet\"\n",
    "TOKENIZER_NAME = \"imone/LLaMA2_13B_with_correctness_token\"\n",
    "\n",
    "# Load tokenizer\n",
    "tokenizer = transformers.AutoTokenizer.from_pretrained(TOKENIZER_NAME)"
   ]
  },
  {
   "cell_type": "code",
   "execution_count": 3,
   "metadata": {},
   "outputs": [],
   "source": [
    "ds_parquet = parquet.read_table(DATASET)"
   ]
  },
  {
   "cell_type": "code",
   "execution_count": 6,
   "metadata": {},
   "outputs": [
    {
     "data": {
      "application/vnd.jupyter.widget-view+json": {
       "model_id": "3c7b3d0989e04d3d9ed4bf598678fb09",
       "version_major": 2,
       "version_minor": 0
      },
      "text/plain": [
       "  0%|          | 0/94470 [00:00<?, ?it/s]"
      ]
     },
     "metadata": {},
     "output_type": "display_data"
    }
   ],
   "source": [
    "supervise_len = np.array([pyarrow.compute.sum(x.values).as_py() for x in tqdm(ds_parquet.column(\"0_masks\"))])"
   ]
  },
  {
   "cell_type": "code",
   "execution_count": 8,
   "metadata": {},
   "outputs": [],
   "source": [
    "# Length statistics\n",
    "lengths = np.array(ds_parquet.column(\"total_length\").to_pylist())"
   ]
  },
  {
   "cell_type": "code",
   "execution_count": 10,
   "metadata": {},
   "outputs": [
    {
     "data": {
      "text/plain": [
       "324.22891923361914"
      ]
     },
     "execution_count": 10,
     "metadata": {},
     "output_type": "execute_result"
    }
   ],
   "source": [
    "np.mean(lengths)"
   ]
  },
  {
   "cell_type": "code",
   "execution_count": 14,
   "metadata": {},
   "outputs": [
    {
     "name": "stdout",
     "output_type": "stream",
     "text": [
      "<s> Provide a wrong solution to the user's problem.<|end_of_turn|>\n",
      "\n",
      " User: Let $a_n$ be the integer obtained by writing all the integers from $1$ to $n$ from left to right. For example, $a_3 = 123$ and $a_{11} = 1234567891011$. Compute the remainder when $a_{44}$ is divided by $45$.<|end_of_turn|>\n",
      "\n",
      "\n",
      "=================\n",
      "<|correct|> This is an interesting problem that involves some number theory and modular arithmetic.<|end_of_step|><|correct|> I notice that 45 is divisible by 9, so I can use the fact that a number is divisible by 9 if and only if the sum of its digits is divisible by 9.<|end_of_step|><|wrong|> This means that the remainder when $a_{44}$ is divided by 45 is the same as the remainder when the sum of the digits of $a_{44}$ is divided^{9}{45} .<|end_of_step|><|end_of_turn|>\n",
      "\n",
      "\n"
     ]
    }
   ],
   "source": [
    "# Print the supervised and unsupervised text\n",
    "sample_index = 1001\n",
    "\n",
    "item = ds_parquet.take([sample_index]).to_pylist()[0]\n",
    "\n",
    "token_ids = np.array(item[\"0_tokens\"])\n",
    "masks     = np.array(item[\"0_masks\"])\n",
    "\n",
    "print(tokenizer.decode(token_ids[~masks].tolist(), spaces_between_special_tokens=False).replace(\"<|end_of_turn|>\", \"<|end_of_turn|>\\n\\n\"))\n",
    "print(\"=================\")\n",
    "print(tokenizer.decode(token_ids[masks].tolist(), spaces_between_special_tokens=False).replace(\"<|end_of_turn|>\", \"<|end_of_turn|>\\n\\n\"))"
   ]
  }
 ],
 "metadata": {
  "kernelspec": {
   "display_name": "torch",
   "language": "python",
   "name": "python3"
  },
  "language_info": {
   "codemirror_mode": {
    "name": "ipython",
    "version": 3
   },
   "file_extension": ".py",
   "mimetype": "text/x-python",
   "name": "python",
   "nbconvert_exporter": "python",
   "pygments_lexer": "ipython3",
   "version": "3.11.4"
  },
  "orig_nbformat": 4
 },
 "nbformat": 4,
 "nbformat_minor": 2
}
